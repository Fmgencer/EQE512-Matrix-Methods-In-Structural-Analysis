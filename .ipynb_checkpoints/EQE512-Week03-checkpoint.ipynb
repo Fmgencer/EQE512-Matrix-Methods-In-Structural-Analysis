{
 "cells": [
  {
   "cell_type": "markdown",
   "metadata": {
    "slideshow": {
     "slide_type": "slide"
    }
   },
   "source": [
    "EQE512 MATRIX METHODS IN STRUCTURAL ANALYSIS \n",
    "\n",
    "---\n",
    "<h3 align=\"center\">Week 03 - Development of computer algorithms </h3> \n",
    "<h4 align=\"center\">Dr. Ahmet Anıl Dindar (adindar@gtu.edu.tr)</h3> \n",
    "<h4 align=\"center\">2020 Fall  </h4> "
   ]
  },
  {
   "cell_type": "markdown",
   "metadata": {},
   "source": [
    "**Algorithm**\n",
    "\n",
    "An algorithm is a list of rules to follow in order to solve a problem.\n",
    "\n",
    "<img src=\"http://ichef.bbci.co.uk/images/ic/320x180/p0258tkq.jpg\"/>"
   ]
  },
  {
   "cell_type": "markdown",
   "metadata": {},
   "source": [
    "# TASK 01- QUESTION\n",
    "\n",
    "Calculate the followings;\n",
    "- Support reactions\n",
    "- Draw the internal force diagrams\n",
    "\n",
    "using Excel and Python.\n",
    "\n",
    "<img src=\"./images/5-simple_beam.svg\"/>"
   ]
  },
  {
   "cell_type": "markdown",
   "metadata": {},
   "source": [
    "## TASK 01- ALGORITHM\n",
    "\n",
    "Let's develop an algorithm in Engineering Problems: \n",
    "\n",
    "<img src=\"./images/5-simple_beam_flowchart.svg\"/>"
   ]
  },
  {
   "cell_type": "markdown",
   "metadata": {},
   "source": [
    "## TASK 01- SOLUTION IN EXCEL\n",
    "\n",
    "<img src=\"./images/7-Excel-00.png\" width=\"60%\">\n",
    "\n",
    "Follow this part in the class video."
   ]
  },
  {
   "cell_type": "markdown",
   "metadata": {},
   "source": [
    "## CODING PRACTICE IN MATLAB AND PYTHON \n",
    "\n",
    "Keywords in coding:\n",
    "\n",
    "- Variables (number, string, array)\n",
    "- Calculations (adding, subtracting, multiplying, dividing)\n",
    "- Flows\n",
    "    - for / (end)\n",
    "    - If / else / (end)\n",
    "    - While / (end)"
   ]
  },
  {
   "cell_type": "markdown",
   "metadata": {},
   "source": [
    "### MATLAB \n",
    "\n",
    "<img src=\"./images/8-MATLAB-00.png\" width=\"60%\">\n",
    "\n",
    "Let's watch this part in class video"
   ]
  },
  {
   "cell_type": "markdown",
   "metadata": {},
   "source": [
    "### PYTHON\n",
    "\n",
    "It is right now :)"
   ]
  },
  {
   "cell_type": "code",
   "execution_count": null,
   "metadata": {
    "slideshow": {
     "slide_type": "slide"
    }
   },
   "outputs": [],
   "source": [
    "# Variables; Some coding about variables"
   ]
  },
  {
   "cell_type": "code",
   "execution_count": null,
   "metadata": {
    "slideshow": {
     "slide_type": "slide"
    }
   },
   "outputs": [],
   "source": [
    "# Numbers; Some coding about variables"
   ]
  },
  {
   "cell_type": "code",
   "execution_count": null,
   "metadata": {
    "slideshow": {
     "slide_type": "slide"
    }
   },
   "outputs": [],
   "source": [
    "# For loop"
   ]
  },
  {
   "cell_type": "code",
   "execution_count": null,
   "metadata": {
    "slideshow": {
     "slide_type": "slide"
    }
   },
   "outputs": [],
   "source": [
    "# If/Else loop"
   ]
  },
  {
   "cell_type": "code",
   "execution_count": null,
   "metadata": {
    "scrolled": true,
    "slideshow": {
     "slide_type": "slide"
    }
   },
   "outputs": [],
   "source": [
    "# While Loop"
   ]
  },
  {
   "cell_type": "markdown",
   "metadata": {
    "slideshow": {
     "slide_type": "slide"
    }
   },
   "source": [
    "### TASK 01- SOLUTION IN PYTHON\n",
    "\n",
    "Calculate the followings;\n",
    "- Support reactions\n",
    "- Draw the internal force diagrams\n",
    "\n",
    "using Excel and **Python**.\n",
    "\n",
    "<img src=\"./images/5-simple_beam.svg\" width=\"80%\"/>\n",
    "\n",
    "Let's do it rigth now!"
   ]
  },
  {
   "cell_type": "code",
   "execution_count": null,
   "metadata": {
    "slideshow": {
     "slide_type": "slide"
    }
   },
   "outputs": [],
   "source": [
    "# TASK 01- SOLUTION IN PYTHON"
   ]
  },
  {
   "cell_type": "markdown",
   "metadata": {
    "slideshow": {
     "slide_type": "slide"
    }
   },
   "source": [
    "## TASK 02- QUESTION\n",
    "\n",
    "Calculate the followings;\n",
    "- Support reactions\n",
    "- Draw the internal force diagrams\n",
    "\n",
    "using ~~Excel~~ and Python.\n",
    "\n",
    "<img src=\"./images/9-simple_cantilever_beam.svg\" width=\"80%\" align=\"center\">"
   ]
  },
  {
   "cell_type": "markdown",
   "metadata": {
    "slideshow": {
     "slide_type": "slide"
    }
   },
   "source": [
    "### TASK 02- ALGORITHM\n",
    "\n",
    "Let's develop an algorithm for this problem: \n",
    "\n",
    "<img src=\"./images/week03-task02-algorithm-00.svg\"/>"
   ]
  },
  {
   "cell_type": "markdown",
   "metadata": {
    "slideshow": {
     "slide_type": "slide"
    }
   },
   "source": [
    "### TASK 02- SOLUTION\n",
    "\n",
    "Let's code this problem right now"
   ]
  },
  {
   "cell_type": "code",
   "execution_count": null,
   "metadata": {},
   "outputs": [],
   "source": []
  },
  {
   "cell_type": "code",
   "execution_count": null,
   "metadata": {},
   "outputs": [],
   "source": []
  },
  {
   "cell_type": "code",
   "execution_count": null,
   "metadata": {},
   "outputs": [],
   "source": []
  },
  {
   "cell_type": "code",
   "execution_count": null,
   "metadata": {},
   "outputs": [],
   "source": []
  },
  {
   "cell_type": "code",
   "execution_count": null,
   "metadata": {},
   "outputs": [],
   "source": []
  },
  {
   "cell_type": "markdown",
   "metadata": {
    "slideshow": {
     "slide_type": "slide"
    }
   },
   "source": [
    "---\n",
    "\n",
    "**NEXT WEEK**\n",
    "\n",
    "<table >\n",
    "<tr>\n",
    "<td>\n",
    "<img src=\"http://worshiphousemedia.s3.amazonaws.com/images/main/s/st/bnt/st/seeyounextweek1.jpg\" >\n",
    "</td>\n",
    "<td align=\"left\"><strong style=\"font-size: 20px;\">\n",
    "The topics for the next week \n",
    "<br><br>\n",
    "\n",
    "1- Assignment #1 : Tonight 8pm\n",
    "<br><br>\n",
    "2- \"Development of algorithms for parametric calculations and optimal solution approach\"\n",
    "<br>\n",
    "</td>\n",
    "</tr>\n",
    "</table>"
   ]
  },
  {
   "cell_type": "code",
   "execution_count": null,
   "metadata": {},
   "outputs": [],
   "source": []
  }
 ],
 "metadata": {
  "celltoolbar": "Slideshow",
  "kernelspec": {
   "display_name": "Python 3",
   "language": "python",
   "name": "python3"
  },
  "language_info": {
   "codemirror_mode": {
    "name": "ipython",
    "version": 3
   },
   "file_extension": ".py",
   "mimetype": "text/x-python",
   "name": "python",
   "nbconvert_exporter": "python",
   "pygments_lexer": "ipython3",
   "version": "3.7.6"
  },
  "toc-autonumbering": true
 },
 "nbformat": 4,
 "nbformat_minor": 4
}
